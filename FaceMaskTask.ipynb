{
  "nbformat": 4,
  "nbformat_minor": 0,
  "metadata": {
    "colab": {
      "name": "FaceMaskTask.ipynb",
      "provenance": [],
      "collapsed_sections": [],
      "include_colab_link": true
    },
    "kernelspec": {
      "name": "python3",
      "display_name": "Python 3"
    }
  },
  "cells": [
    {
      "cell_type": "markdown",
      "metadata": {
        "id": "view-in-github",
        "colab_type": "text"
      },
      "source": [
        "<a href=\"https://colab.research.google.com/github/AnkanDas22/AnkanDas22.github.io/blob/master/FaceMaskTask.ipynb\" target=\"_parent\"><img src=\"https://colab.research.google.com/assets/colab-badge.svg\" alt=\"Open In Colab\"/></a>"
      ]
    },
    {
      "cell_type": "code",
      "metadata": {
        "id": "KIr3eIm_7ttL",
        "colab_type": "code",
        "colab": {}
      },
      "source": [
        ""
      ],
      "execution_count": null,
      "outputs": []
    },
    {
      "cell_type": "markdown",
      "metadata": {
        "id": "oHNt_JDFUaOa",
        "colab_type": "text"
      },
      "source": [
        ""
      ]
    },
    {
      "cell_type": "markdown",
      "metadata": {
        "id": "I4I9iAlxYWmQ",
        "colab_type": "text"
      },
      "source": [
        "<h2> Face Mask Task </h2> <br>\n",
        "You are provided with some sample images along with this task \n",
        "[here](https://drive.google.com/drive/folders/1zy2Jqn_R2XakWTb-94S3XJMT_qTpxEz2?usp=sharing). These are images extracted from a Celebrity Dataset to be used for segmentation. The task here though, is to crop the original image (named like 'xx.jpg') using it's corresponding mask provided (named like '000xx_skin.png'). Feel free to download and upload the image data under a folder in this runtime and name the folder \"faces\". \n",
        "\n",
        "For a complete illustration see all cells below. \n",
        "\n",
        "For this task you should only use 'numpy' for the masking task. Please  use standard image processing libraries like opencv, seaborn, matplotlib etc. to print images. Please refrain from using any other online processing tools.\n",
        "It would be enough to simply 'plt.imshow(result)' for all face images provided (part code below). You'll need to insert code only where mentioned in this case. "
      ]
    },
    {
      "cell_type": "markdown",
      "metadata": {
        "id": "6z1FTI8CYno5",
        "colab_type": "text"
      },
      "source": [
        "<h2> Imports and Dependencies </h2> "
      ]
    },
    {
      "cell_type": "code",
      "metadata": {
        "id": "E3Psv1cnYVug",
        "colab_type": "code",
        "colab": {}
      },
      "source": [
        "import numpy as np\n",
        "import cv2 \n",
        "import matplotlib.pyplot as plt "
      ],
      "execution_count": null,
      "outputs": []
    },
    {
      "cell_type": "markdown",
      "metadata": {
        "id": "AUqAJ_NpYra3",
        "colab_type": "text"
      },
      "source": [
        "<h2> Some reading and preprocessing code </h2>  "
      ]
    },
    {
      "cell_type": "code",
      "metadata": {
        "id": "qPqjQ-IYYtPS",
        "colab_type": "code",
        "colab": {}
      },
      "source": [
        "img1 = cv2.imread('faces/43.jpg') \n",
        "img1_rgb = img1[...,::-1].copy()\n",
        "img1_mask = cv2.imread('faces/00043_skin.png')\n",
        "resized1 = cv2.resize(img1_rgb, (224,224), interpolation = cv2.INTER_AREA)\n",
        "\n",
        "img2 = cv2.imread('faces/62.jpg') \n",
        "img2_rgb = img2[...,::-1].copy()\n",
        "img2_mask = cv2.imread('faces/00062_skin.png')\n",
        "resized2 = cv2.resize(img2_rgb, (224,224), interpolation = cv2.INTER_AREA)"
      ],
      "execution_count": null,
      "outputs": []
    },
    {
      "cell_type": "markdown",
      "metadata": {
        "id": "dqY_8PtpYwOr",
        "colab_type": "text"
      },
      "source": [
        "<h2> Code Here </h2>"
      ]
    },
    {
      "cell_type": "code",
      "metadata": {
        "id": "tqRvB9cTYzrx",
        "colab_type": "code",
        "colab": {}
      },
      "source": [
        "def crop_by_mask(image, mask):\n",
        "    ''' Your code here '''\n",
        "    return result_image   "
      ],
      "execution_count": null,
      "outputs": []
    },
    {
      "cell_type": "markdown",
      "metadata": {
        "id": "y4Z5mgxGY1rZ",
        "colab_type": "text"
      },
      "source": [
        "<h2> Results </h2> "
      ]
    },
    {
      "cell_type": "code",
      "metadata": {
        "id": "fnPBj7GmZB7s",
        "colab_type": "code",
        "colab": {}
      },
      "source": [
        "plt.imshow(crop_by_mask(resized1, img1_mask))"
      ],
      "execution_count": null,
      "outputs": []
    },
    {
      "cell_type": "code",
      "metadata": {
        "id": "ONmqbgUVZObi",
        "colab_type": "code",
        "colab": {}
      },
      "source": [
        "plt.imshow(crop_by_mask(resized2, img2_mask))"
      ],
      "execution_count": null,
      "outputs": []
    }
  ]
}